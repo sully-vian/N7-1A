{
 "cells": [
  {
   "cell_type": "markdown",
   "metadata": {},
   "source": [
    "# Systèmes d'exploitation : Unix\n",
    "\n",
    "## 2 Gestion des Processus\n",
    "\n",
    "### 2.2 Les primitives de base"
   ]
  },
  {
   "cell_type": "markdown",
   "metadata": {},
   "source": [
    "#### 2.2.4 Processus, concurrence et ordonnancement"
   ]
  },
  {
   "cell_type": "code",
   "execution_count": 21,
   "metadata": {},
   "outputs": [
    {
     "name": "stdout",
     "output_type": "stream",
     "text": [
      "valeur de fork = 6751\n",
      "processus 6748 de père 4579\n",
      "fin du processus père\n",
      "valeur de fork = 0\n",
      "processus 6751 de père 6748\n",
      "fin du processus fils\n"
     ]
    }
   ],
   "source": [
    "#include <stdio.h>\n",
    "#include <unistd.h>\n",
    "#include <sys/types.h>\n",
    "\n",
    "int main() {\n",
    "    int pid = fork(); /* père et fils */\n",
    "    printf(\"valeur de fork = %d\\n\", pid);\n",
    "    printf(\"processus %d de père %d\\n\", (int) getpid(), (int) getppid());\n",
    "    if ( pid == 0 ) {\n",
    "        /* processus fils */ printf(\"fin du processus fils\\n\"); }\n",
    "    else {\n",
    "        /* processus père */ printf(\"fin du processus père\\n\"); }\n",
    "    return 0;\n",
    "}"
   ]
  },
  {
   "cell_type": "markdown",
   "metadata": {},
   "source": [
    "#### 2.2.5 Exercices"
   ]
  },
  {
   "cell_type": "code",
   "execution_count": 29,
   "metadata": {},
   "outputs": [
    {
     "name": "stdout",
     "output_type": "stream",
     "text": [
      "fork1\n",
      "fork1\n",
      "fork2\n",
      "fork2\n",
      "fork2\n",
      "fork3\n",
      "fork2\n",
      "fork3\n",
      "fork3\n",
      "fork3\n",
      "fork3\n",
      "fork3\n",
      "fork3\n",
      "fork3\n"
     ]
    }
   ],
   "source": [
    "#include <stdio.h>\n",
    "#include <unistd.h>\n",
    "#include <sys/types.h>\n",
    "\n",
    "int main(void) {\n",
    "    fork(); printf(\"fork1\\n\");\n",
    "    fork(); printf(\"fork2\\n\");\n",
    "    fork(); printf(\"fork3\\n\");\n",
    "    return(0);\n",
    "}"
   ]
  },
  {
   "cell_type": "markdown",
   "metadata": {},
   "source": [
    "#### 2.2.9 Exercice"
   ]
  },
  {
   "cell_type": "markdown",
   "metadata": {},
   "source": [
    "#### 2.2.10 Exercice : gestion de la mémoire"
   ]
  },
  {
   "cell_type": "code",
   "execution_count": 30,
   "metadata": {},
   "outputs": [
    {
     "name": "stdout",
     "output_type": "stream",
     "text": [
      "début f_with_static : v_stat=0 parametre=34\n",
      "fin f_with_static : v_stat=34\n",
      "on est dans le père 6891 de père 4579\n",
      "on est dans ke fils 6894 de père 6891\n",
      "fils: v_glob après incrémentation=5\n",
      "fils: donnee dynamique après incrémenation=19\n",
      "fils: appel de f_with_static avec 5\n",
      "début f_with_static : v_stat=34 parametre=5\n",
      "fin f_with_static : v_stat=5\n",
      "le fils est mort, retour au pere : m=6894 n=512\n",
      "père: v_glob=4\n",
      "père: donnee dynamique=19\n",
      "père: appel de f_with_static avec 19\n",
      "début f_with_static : v_stat=34 parametre=19\n",
      "fin f_with_static : v_stat=19\n"
     ]
    }
   ],
   "source": [
    "#include <stdio.h>\n",
    "#include <stdlib.h>\n",
    "#include <unistd.h>\n",
    "#include <sys/types.h>\n",
    "#include <sys/wait.h>\n",
    "\n",
    "int v_glob = 4;\n",
    "\n",
    "void f_with_static(int val) {\n",
    "    static int v_stat = 0;\n",
    "    printf(\"début f_with_static : v_stat=%d parametre=%d\\n\", v_stat, val);\n",
    "    v_stat = val;\n",
    "    printf(\"fin f_with_static : v_stat=%d\\n\", v_stat);\n",
    "}\n",
    "\n",
    "int main(void) {\n",
    "    int pid, m, n, *p_int;\n",
    "\n",
    "    p_int = (int *) malloc(sizeof(int));\n",
    "    *p_int = 19;\n",
    "\n",
    "    f_with_static(34);\n",
    "\n",
    "    if ( (pid=fork()) == 0 ) { /* fils */\n",
    "        printf(\"on est dans le fils %d de père %d\\n\", (int) getpid(), (int) getppid());\n",
    "        v_glob++;\n",
    "        printf(\"fils: v_glob après incrémentation=%d\\n\", v_glob);\n",
    "        printf(\"fils: donnee dynamique après incrémenation=%d\\n\", *p_int);\n",
    "        printf(\"fils: appel de f_with_static avec %d\\n\", v_glob);\n",
    "        f_with_static(v_glob);\n",
    "        exit(2);\n",
    "    }\n",
    "    /* père */\n",
    "    printf(\"on est dans le père %d de père %d\\n\", (int) getpid(), (int) getppid());\n",
    "    m = wait(&n);\n",
    "    printf(\"le fils est mort, retour au pere : m=%d n=%d\\n\", m, n);\n",
    "    printf(\"père: v_glob=%d\\n\", v_glob);\n",
    "    printf(\"père: donnee dynamique=%d\\n\", *p_int);\n",
    "    printf(\"père: appel de f_with_static avec %d\\n\", *p_int);\n",
    "    f_with_static(*p_int);\n",
    "    return 0;\n",
    "}"
   ]
  }
 ],
 "metadata": {
  "kernelspec": {
   "display_name": "C",
   "language": "c",
   "name": "c"
  },
  "language_info": {
   "file_extension": ".c",
   "mimetype": "text/plain",
   "name": "c"
  }
 },
 "nbformat": 4,
 "nbformat_minor": 2
}
